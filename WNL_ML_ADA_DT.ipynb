{
 "cells": [
  {
   "cell_type": "code",
   "execution_count": 1,
   "metadata": {},
   "outputs": [],
   "source": [
    "import pandas as pd\n",
    "import numpy as np\n",
    "import hashlib\n",
    "from collections.abc import Iterable\n",
    "from sklearn.model_selection import train_test_split\n",
    "from sklearn.ensemble import AdaBoostClassifier\n",
    "from sklearn.ensemble import RandomForestClassifier\n",
    "from sklearn.tree import DecisionTreeClassifier \n",
    "from sklearn import metrics\n",
    "from sklearn.metrics import classification_report\n",
    "from matplotlib import pyplot as plt\n",
    "import time\n",
    "\n",
    "# define gvars\n",
    "SEED = 1080\n",
    "VCHUNK = 64\n",
    "\n",
    "# import from csv to dataframe\n",
    "df = pd.read_csv('wnl/WNL_TLS_Dataset_ECH.csv', sep='\\t')\n",
    "\n"
   ]
  },
  {
   "cell_type": "code",
   "execution_count": 2,
   "metadata": {},
   "outputs": [
    {
     "data": {
      "text/html": [
       "<div>\n",
       "<style scoped>\n",
       "    .dataframe tbody tr th:only-of-type {\n",
       "        vertical-align: middle;\n",
       "    }\n",
       "\n",
       "    .dataframe tbody tr th {\n",
       "        vertical-align: top;\n",
       "    }\n",
       "\n",
       "    .dataframe thead th {\n",
       "        text-align: right;\n",
       "    }\n",
       "</style>\n",
       "<table border=\"1\" class=\"dataframe\">\n",
       "  <thead>\n",
       "    <tr style=\"text-align: right;\">\n",
       "      <th></th>\n",
       "      <th>Label</th>\n",
       "      <th>ClientHello</th>\n",
       "      <th>ServerHello</th>\n",
       "    </tr>\n",
       "  </thead>\n",
       "  <tbody>\n",
       "    <tr>\n",
       "      <th>0</th>\n",
       "      <td>AppleMusic</td>\n",
       "      <td>22,3,1,0,166,1,0,0,162,3,3,0,0,0,0,147,162,126...</td>\n",
       "      <td>22,3,3,0,122,2,0,0,118,3,3,0,0,0,0,219,104,67,...</td>\n",
       "    </tr>\n",
       "    <tr>\n",
       "      <th>1</th>\n",
       "      <td>AppleMusic</td>\n",
       "      <td>22,3,1,1,213,1,0,1,209,3,3,0,0,0,0,153,108,195...</td>\n",
       "      <td>22,3,3,0,128,2,0,0,124,3,3,0,0,0,0,174,105,135...</td>\n",
       "    </tr>\n",
       "    <tr>\n",
       "      <th>2</th>\n",
       "      <td>AppleMusic</td>\n",
       "      <td>22,3,1,0,166,1,0,0,162,3,3,0,0,0,0,72,145,151,...</td>\n",
       "      <td>22,3,3,0,122,2,0,0,118,3,3,0,0,0,0,197,217,247...</td>\n",
       "    </tr>\n",
       "    <tr>\n",
       "      <th>3</th>\n",
       "      <td>AppleMusic</td>\n",
       "      <td>22,3,1,1,213,1,0,1,209,3,3,0,0,0,0,14,243,79,3...</td>\n",
       "      <td>22,3,3,0,128,2,0,0,124,3,3,0,0,0,0,73,224,90,8...</td>\n",
       "    </tr>\n",
       "    <tr>\n",
       "      <th>4</th>\n",
       "      <td>AppleMusic</td>\n",
       "      <td>22,3,1,1,213,1,0,1,209,3,3,0,0,0,0,24,22,171,9...</td>\n",
       "      <td>22,3,3,0,128,2,0,0,124,3,3,0,0,0,0,244,91,185,...</td>\n",
       "    </tr>\n",
       "  </tbody>\n",
       "</table>\n",
       "</div>"
      ],
      "text/plain": [
       "        Label                                        ClientHello  \\\n",
       "0  AppleMusic  22,3,1,0,166,1,0,0,162,3,3,0,0,0,0,147,162,126...   \n",
       "1  AppleMusic  22,3,1,1,213,1,0,1,209,3,3,0,0,0,0,153,108,195...   \n",
       "2  AppleMusic  22,3,1,0,166,1,0,0,162,3,3,0,0,0,0,72,145,151,...   \n",
       "3  AppleMusic  22,3,1,1,213,1,0,1,209,3,3,0,0,0,0,14,243,79,3...   \n",
       "4  AppleMusic  22,3,1,1,213,1,0,1,209,3,3,0,0,0,0,24,22,171,9...   \n",
       "\n",
       "                                         ServerHello  \n",
       "0  22,3,3,0,122,2,0,0,118,3,3,0,0,0,0,219,104,67,...  \n",
       "1  22,3,3,0,128,2,0,0,124,3,3,0,0,0,0,174,105,135...  \n",
       "2  22,3,3,0,122,2,0,0,118,3,3,0,0,0,0,197,217,247...  \n",
       "3  22,3,3,0,128,2,0,0,124,3,3,0,0,0,0,73,224,90,8...  \n",
       "4  22,3,3,0,128,2,0,0,124,3,3,0,0,0,0,244,91,185,...  "
      ]
     },
     "execution_count": 2,
     "metadata": {},
     "output_type": "execute_result"
    }
   ],
   "source": [
    "df.head()\n",
    "\n",
    "#df.Label.unique()"
   ]
  },
  {
   "cell_type": "code",
   "execution_count": 3,
   "metadata": {},
   "outputs": [],
   "source": [
    "'''https://tls13.xargs.org/#client-hello/annotated'''\n",
    "\n",
    "def flatten(L):\n",
    "    '''flattens a list of nested list of arbitrary depth into a single concatenated list'''\n",
    "    for x in L:\n",
    "        if isinstance(x, Iterable) and not isinstance(x, (str, bytes)):\n",
    "            yield from flatten(x)\n",
    "        else:\n",
    "            yield x\n",
    "\n",
    "def padding(A, size):\n",
    "    '''pads a given list to a given length'''\n",
    "    t = size - len(A)\n",
    "\n",
    "    return np.pad(A, pad_width=(0, t), mode='constant')\n",
    "\n",
    "def parse_CHP(p):\n",
    "    '''\n",
    "    implements the Shamsimukhametov et al. bytes recomposition algorithm\n",
    "    builds a fixed length feature vector from clienthello message\n",
    "    '''\n",
    "    T = []\n",
    "    L = []\n",
    "    V = []\n",
    "\n",
    "    handshake_len = sum(p[3:5])\n",
    "    clienthello_len = sum(p[6:9])\n",
    "    sid_len = p[43]\n",
    "    i = 44+sid_len\n",
    "\n",
    "    sid = p[44:i]\n",
    "    ciphersuite_len = sum(p[i:i+2])\n",
    "    ciphersuite = p[i+2:i+2+ciphersuite_len]\n",
    "    i += 4 + ciphersuite_len\n",
    "\n",
    "    ext_len = sum(p[i:i+2])\n",
    "    i = i+2\n",
    "    \n",
    "    T.append(padding(sid, 32))\n",
    "    L.append(handshake_len)\n",
    "    L.append(clienthello_len)\n",
    "    L.append(sid_len)\n",
    "    L.append(ciphersuite_len)\n",
    "    L.append(ext_len)\n",
    "    V.append(ciphersuite)\n",
    "    \n",
    "    end = i + ext_len\n",
    "    count = 0   \n",
    "\n",
    "    while (i < len(p)):\n",
    "\n",
    "        n_ext_id = sum(p[i:i+2])\n",
    "        i+=2\n",
    "        \n",
    "        n_ext_len = sum(p[i:i+2])\n",
    "        i+=2\n",
    "\n",
    "        T.append(n_ext_id)\n",
    "        L.append(n_ext_len)\n",
    "        V.append(p[i:i+n_ext_len])\n",
    "        i+=n_ext_len\n",
    "\n",
    "    T = padding(list(flatten(T)),40)\n",
    "    L = padding(list(flatten(L)),13)\n",
    "    V = list(flatten(V))\n",
    "    VC = V[:VCHUNK]\n",
    "\n",
    "    return np.concatenate((T,L,VC))\n",
    "\n",
    "def parse_SHP(p):\n",
    "    '''\n",
    "    implements the Shamsimukhametov et al. bytes recomposition algorithm\n",
    "    builds a fixed length feature vector from serverhello message\n",
    "    '''\n",
    "    T = []\n",
    "    L = []\n",
    "    V = []\n",
    "\n",
    "    handshake_len = sum(p[3:5])\n",
    "    serverhello_len = sum(p[6:9])\n",
    "    sid_len = p[43]\n",
    "    i = 44+sid_len\n",
    "\n",
    "    sid = p[44:i]\n",
    "    ciphersuite = sum(p[i:i+2])\n",
    "    i += 3\n",
    "\n",
    "    ext_len = sum(p[i:i+2])\n",
    "    i = i+2\n",
    "    \n",
    "    T.append(padding(sid, 32))\n",
    "    T.append(ciphersuite)\n",
    "    L.append(handshake_len)\n",
    "    L.append(serverhello_len)\n",
    "    L.append(sid_len)\n",
    "    L.append(ext_len)\n",
    "\n",
    "    end = i + ext_len\n",
    "    count = 0    \n",
    "    \n",
    "    while (i < len(p)):\n",
    "\n",
    "        n_ext_id = sum(p[i:i+2])\n",
    "        i+=2\n",
    "        \n",
    "        n_ext_len = sum(p[i:i+2])\n",
    "        i+=2\n",
    "\n",
    "        T.append(n_ext_id)\n",
    "        L.append(n_ext_len)\n",
    "        V.append(p[i:i+n_ext_len])\n",
    "        i+=n_ext_len\n",
    "\n",
    "    T = padding(list(flatten(T)),40)\n",
    "    L = padding(list(flatten(L)),10)\n",
    "    V = list(flatten(V))\n",
    "    VC = V[:VCHUNK]\n",
    "\n",
    "    return np.concatenate((T,L,VC))\n",
    "\n",
    "def parse_payload(CH,SH):\n",
    "    '''builds a concatenated fixed length feature vector of recomposed bytes'''\n",
    "    chp  = np.fromstring(CH, dtype=int, sep=',')\n",
    "    shp  = np.fromstring(SH, dtype=int, sep=',')\n",
    "    chv = parse_CHP(chp)\n",
    "    shv = parse_SHP(shp)\n",
    "    return np.concatenate((chv,shv))"
   ]
  },
  {
   "cell_type": "code",
   "execution_count": 4,
   "metadata": {},
   "outputs": [
    {
     "name": "stdout",
     "output_type": "stream",
     "text": [
      "[132 119 186 235 186   2 164 141 185  92  21 164  31 142 242 106 128 185\n",
      "  45  92  59 161 173 181  15 236 118 178 145  29 148 199  51  43   0   0\n",
      "   0   0   0   0 166 162  32  34  55  38   9   0   0   0   0   0   0  19\n",
      "   1  19   2  19   3 192  43 192  44 204 169 192  47 192  48 204 168 192\n",
      "   9 192  10 192  19 192  20   0 156   0 157   0  47   0  53   0  36   0\n",
      "  29   0  32 128  70 186 232  48 147  53 217 219 145  14  93 217 193 220\n",
      " 251 228 172 113 190 211  40 106  94 132 119 186 235 186   2 164 141 185\n",
      "  92  21 164  31 142 242 106 128 185  45  92  59 161 173 181  15 236 118\n",
      " 178 145  29 148 199  20  43  51   0   0   0   0   0 122 118  32  46   2\n",
      "  36   0   0   0   0   3   4   0  29   0  32 179 169  38  12  73  68  45\n",
      " 171  35  59  24  99  89 181  22  35  31 149 206  44 227 135  92 156 245\n",
      " 202  29  57 124  67 142  93]\n",
      "205\n"
     ]
    }
   ],
   "source": [
    "# Transform according to recomposition algorithm\n",
    "df['X'] = df.apply(lambda row : parse_payload(row['ClientHello'], row['ServerHello']), axis=1)\n",
    "sample = df.X[0]\n",
    "print(sample)\n",
    "print(len(sample))"
   ]
  },
  {
   "cell_type": "code",
   "execution_count": 5,
   "metadata": {},
   "outputs": [],
   "source": [
    "# Encode classes into integers as terget variable vector y\n",
    "labels = df.Label.unique()\n",
    "df['Label'] = df['Label'].astype('category')\n",
    "df['target'] = df['Label'].cat.codes\n",
    "y = df['target'].to_numpy()"
   ]
  },
  {
   "cell_type": "code",
   "execution_count": 6,
   "metadata": {},
   "outputs": [],
   "source": [
    "# expand array to proper dims\n",
    "dfx = pd.DataFrame(df['X'].tolist()).add_prefix(\"x\")\n",
    "X = dfx.to_numpy(dtype=np.int16)"
   ]
  },
  {
   "cell_type": "code",
   "execution_count": 7,
   "metadata": {},
   "outputs": [],
   "source": [
    "# split training and test sets\n",
    "X_train, X_test, y_train, y_test = train_test_split(X, y, test_size=0.25, random_state=SEED, shuffle=True, stratify=y)"
   ]
  },
  {
   "cell_type": "code",
   "execution_count": 8,
   "metadata": {},
   "outputs": [],
   "source": [
    "# build model using optimized params\n",
    "dtc_opt_model = DecisionTreeClassifier(   criterion='entropy', \n",
    "                                    max_depth=8, \n",
    "                                    max_features=None, \n",
    "                                    min_samples_leaf=5, \n",
    "                                    min_samples_split=2,                                     \n",
    "                                    splitter='random',\n",
    "                                    random_state=SEED)\n",
    "\n",
    "ada_opt_model = AdaBoostClassifier( base_estimator=dtc_opt_model, \n",
    "                                    learning_rate=1.0, \n",
    "                                    n_estimators=190, \n",
    "                                    random_state=SEED)\n",
    "# start timing\n",
    "start = time.time()\n",
    "# fit the ada boost\n",
    "ada_opt_model.fit(X_train,y_train)\n",
    "# stop timing\n",
    "end = time.time()"
   ]
  },
  {
   "cell_type": "code",
   "execution_count": 9,
   "metadata": {},
   "outputs": [],
   "source": [
    "# Make predictions on our test data\n",
    "y_pred = ada_opt_model.predict(X_test)"
   ]
  },
  {
   "cell_type": "code",
   "execution_count": 10,
   "metadata": {},
   "outputs": [
    {
     "name": "stdout",
     "output_type": "stream",
     "text": [
      "              precision    recall  f1-score   support\n",
      "\n",
      "  AppleMusic     0.9038    1.0000    0.9495        47\n",
      "         Web     0.8197    0.7692    0.7937        65\n",
      "   Kinopoisk     1.0000    1.0000    1.0000        27\n",
      "LiveFacebook     1.0000    1.0000    1.0000        27\n",
      " LiveYouTube     0.8125    0.9905    0.8927       105\n",
      "     Netflix     0.9111    0.9111    0.9111        45\n",
      "  PrimeVideo     0.9706    0.9706    0.9706        68\n",
      "  SoundCloud     0.9344    0.9661    0.9500        59\n",
      "     Spotify     1.0000    0.7391    0.8500        23\n",
      "       Vimeo     0.9321    0.8110    0.8674       254\n",
      " YandexMusic     0.7864    0.8901    0.8351        91\n",
      "     YouTube     0.9841    1.0000    0.9920        62\n",
      "\n",
      "    accuracy                         0.8992       873\n",
      "   macro avg     0.9212    0.9206    0.9177       873\n",
      "weighted avg     0.9044    0.8992    0.8985       873\n",
      "\n"
     ]
    }
   ],
   "source": [
    "# Evaluate the models performance (I hope this isnt garbage)\n",
    "print(classification_report(y_test, y_pred, target_names=labels, digits=4))"
   ]
  },
  {
   "cell_type": "code",
   "execution_count": 11,
   "metadata": {},
   "outputs": [
    {
     "name": "stdout",
     "output_type": "stream",
     "text": [
      "Accuracy: 0.8991981672394044\n",
      "Training Time: 3.5866281986236572\n"
     ]
    }
   ],
   "source": [
    "print(\"Accuracy:\",metrics.accuracy_score(y_test, y_pred))\n",
    "print(\"Training Time: \"+str(end-start))"
   ]
  }
 ],
 "metadata": {
  "kernelspec": {
   "display_name": "Python 3",
   "language": "python",
   "name": "python3"
  },
  "language_info": {
   "codemirror_mode": {
    "name": "ipython",
    "version": 3
   },
   "file_extension": ".py",
   "mimetype": "text/x-python",
   "name": "python",
   "nbconvert_exporter": "python",
   "pygments_lexer": "ipython3",
   "version": "3.10.6"
  },
  "orig_nbformat": 4,
  "vscode": {
   "interpreter": {
    "hash": "e7370f93d1d0cde622a1f8e1c04877d8463912d04d973331ad4851f04de6915a"
   }
  }
 },
 "nbformat": 4,
 "nbformat_minor": 2
}
